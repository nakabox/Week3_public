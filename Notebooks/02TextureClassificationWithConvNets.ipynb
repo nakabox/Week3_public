{
  "nbformat": 4,
  "nbformat_minor": 0,
  "metadata": {
    "colab": {
      "name": "02TextureClassificationWithConvNets.ipynb",
      "version": "0.3.2",
      "provenance": []
    },
    "kernelspec": {
      "display_name": "Python 2",
      "language": "python",
      "name": "python2"
    }
  },
  "cells": [
    {
      "metadata": {
        "id": "a7scg4EGMfYk",
        "colab_type": "text"
      },
      "cell_type": "markdown",
      "source": [
        "# Tissue Classification using Neural Networks\n",
        "In this lab we will explore the use of texture in images and traditional machine learning approaches such as clustering. The dataset we will be using is available here: http://dx.doi.org/10.5281/zenodo.53169. \n",
        "\n",
        "![alt text](https://www.researchgate.net/profile/Jakob_Kather/publication/303998214/figure/fig7/AS:391073710002224@1470250646407/Representative-images-from-our-dataset-Here-the-first-10-images-of-every-tissue-class.png)\n",
        "\n",
        "The above figure shows the 8 different classes of tissue we will be trying to identify. "
      ]
    },
    {
      "metadata": {
        "id": "W86Oi6dCMfYp",
        "colab_type": "code",
        "colab": {}
      },
      "cell_type": "code",
      "source": [
        "# Imports\n",
        "from __future__ import print_function\n",
        "import os\n",
        "import numpy as np\n",
        "import matplotlib.pylab as plt\n",
        "from sklearn.model_selection import train_test_split\n",
        "from tensorflow.keras import Sequential\n",
        "from tensorflow.keras.layers import Dense\n",
        "from tensorflow.keras.layers import Flatten\n",
        "from tensorflow.keras.layers import Conv2D\n",
        "from tensorflow.keras.layers import Dropout\n",
        "from tensorflow.keras.layers import MaxPool2D\n",
        "from tensorflow.keras.optimizers import SGD\n",
        "from tensorflow.keras.utils import to_categorical\n",
        "import tensorflow as tf"
      ],
      "execution_count": 0,
      "outputs": []
    },
    {
      "metadata": {
        "id": "DfDmvdh7MfYx",
        "colab_type": "text"
      },
      "cell_type": "markdown",
      "source": [
        "## Step 1\n",
        "* Load the data (done for you)\n",
        " * The \"data\" variable stores 5000 images of shape 150x150. This means data has shape (5000, 150, 150). These images are loaded here as grayscale.\n",
        " * The \"labels\" variable stores 5000 labels (0-7). This means \"labels\" has shape (5000,)\n",
        "* Split data into training and testing subsets (left up to you)\n",
        " * Check out the sklearn function train_test_split from sklearn.model_selection"
      ]
    },
    {
      "metadata": {
        "id": "vTPG58OXMfYz",
        "colab_type": "code",
        "colab": {
          "base_uri": "https://localhost:8080/",
          "height": 34
        },
        "outputId": "2ef078e4-f64b-42cb-90af-ff36bf63da00"
      },
      "cell_type": "code",
      "source": [
        "! git clone https://github.com/BeaverWorksMedlytics/Week3_public.git\n",
        "\n",
        "# Build the path to the data folder. No need to change directories\n",
        "# There are a total of 6 files you will have to load\n",
        "data_dir = os.path.join( os.getcwd(), 'Week3_public', 'data', 'crc')"
      ],
      "execution_count": 2,
      "outputs": [
        {
          "output_type": "stream",
          "text": [
            "fatal: destination path 'Week3_public' already exists and is not an empty directory.\r\n"
          ],
          "name": "stdout"
        }
      ]
    },
    {
      "metadata": {
        "id": "mF4iIwc8MfY4",
        "colab_type": "code",
        "colab": {
          "base_uri": "https://localhost:8080/",
          "height": 204
        },
        "outputId": "91e5f0b6-5c06-482c-90c5-2c406b4ee2ea"
      },
      "cell_type": "code",
      "source": [
        "# Load data and split into training, testing sets\n",
        "y = np.load(os.path.join(data_dir, 'rgb01.npz'))\n",
        "labels = y['labels']\n",
        "data = y['rgb_data']\n",
        "data = data[:,0:64,0:64,0]\n",
        "label_str = y['label_str']\n",
        "label_str = label_str.tolist() # this is to convert label_str back to a dictionary\n",
        "y = []\n",
        "\n",
        "print(data.shape)\n",
        "for ii in range(2,6):\n",
        "    filename = os.path.join(data_dir, 'rgb0' + str(ii) + '.npz')\n",
        "    print('loading ', filename)\n",
        "    y = np.load(filename)\n",
        "    labels = np.append(labels, y['labels'], axis=0)\n",
        "    data = np.append(data, y['rgb_data'][:,0:64,0:64,0], axis=0)\n",
        "    print(data.shape)\n",
        "    y = []\n",
        "\n",
        "\n",
        "print( data.shape )\n",
        "print( labels.shape )"
      ],
      "execution_count": 3,
      "outputs": [
        {
          "output_type": "stream",
          "text": [
            "(1000, 64, 64)\n",
            "loading  /content/Week3_public/data/crc/rgb02.npz\n",
            "(2000, 64, 64)\n",
            "loading  /content/Week3_public/data/crc/rgb03.npz\n",
            "(3000, 64, 64)\n",
            "loading  /content/Week3_public/data/crc/rgb04.npz\n",
            "(4000, 64, 64)\n",
            "loading  /content/Week3_public/data/crc/rgb05.npz\n",
            "(5000, 64, 64)\n",
            "(5000, 64, 64)\n",
            "(5000,)\n"
          ],
          "name": "stdout"
        }
      ]
    },
    {
      "metadata": {
        "id": "EnTT4tyXMfY9",
        "colab_type": "code",
        "colab": {}
      },
      "cell_type": "code",
      "source": [
        "num_images, nrows, ncols = data.shape\n",
        "\n",
        "labels = to_categorical(labels)\n",
        "\n",
        "train_data, test_data, y_train, y_test = train_test_split(data, labels, test_size = .2)\n",
        "\n",
        "# split into training and testing sets\n",
        "\n",
        "# convert the labels from 1-D arrays to categorical type \n"
      ],
      "execution_count": 0,
      "outputs": []
    },
    {
      "metadata": {
        "id": "PtlCeN4FMfZD",
        "colab_type": "text"
      },
      "cell_type": "markdown",
      "source": [
        "## Normalize data\n",
        "All images should be normalized to the range 0-1 by dividing by 255.\n",
        "\n",
        "#### Note\n",
        "* Using the La\\*b colorspace : If you convert your images to the La\\*b colorspace, the scaling factor will change. Each channel in this colorspace will have a different range and normalization of each space will involve scaling each channel separately. Additionally, the a\\* channel can have a negative range. This also needs to be taken into account. \n",
        "* Using the HSV/HSI colorspace : Similar considerations apply if you are using the HSV/HSI colorspace. The only difference is that the HSV/HSI colorspace will have all positive values."
      ]
    },
    {
      "metadata": {
        "id": "_FeL1EP5MfZF",
        "colab_type": "code",
        "colab": {
          "base_uri": "https://localhost:8080/",
          "height": 34
        },
        "outputId": "248b9a95-3a76-4641-a0d5-bd03178bdb8c"
      },
      "cell_type": "code",
      "source": [
        "# Assuming we are using the RGB colorspace\n",
        "# Normalize all images so that they are 0-1\n",
        "num_images, nrows, ncols = train_data.shape\n",
        "train_data = train_data.astype('float')/255\n",
        "train_data = train_data.reshape(num_images,nrows*ncols)\n",
        "\n",
        "num_images2, nrows2, ncols2 = test_data.shape\n",
        "test_data = test_data.astype('float')/255\n",
        "test_data = test_data.reshape(num_images2,nrows2*ncols2)\n",
        "\n",
        "print(train_data.shape)\n"
      ],
      "execution_count": 5,
      "outputs": [
        {
          "output_type": "stream",
          "text": [
            "(4000, 4096)\n"
          ],
          "name": "stdout"
        }
      ]
    },
    {
      "metadata": {
        "id": "QAgbBOzBMfZI",
        "colab_type": "text"
      },
      "cell_type": "markdown",
      "source": [
        "## Step 2\n",
        "At this point, the data has been split into training and testing sets and normalized. We will now design a fully connected neural network for texture classification. \n",
        "\n",
        "\n",
        "![alt text](http://adventuresinmachinelearning.com/wp-content/uploads/2017/04/CNN-example-block-diagram.jpg)\n",
        "\n",
        "\n",
        "( Image from http://adventuresinmachinelearning.com/keras-tutorial-cnn-11-lines/ )\n",
        "\n",
        "When designing a fully connected network for classification, we have several decisions to make.\n",
        "\n",
        "**Network Architecuture**\n",
        "* How many layers will our network have ?\n",
        "* How many convolutional filters per layer ?\n",
        "    * What is an appropriate filter size ? \n",
        "* What is an appropriate batch size, learning rate and number of training epochs ?\n",
        "\n",
        "**Data input**\n",
        "* Do we use the raw data ?\n",
        "    * RGB or just gray channel ?\n",
        "* Does the use of different colorspaces lead to better results for a given network architecture ?\n",
        "* Can we use any of the texture features from the previous lab as inputs to this model ?\n",
        "* How does data augmentation affect the results ? \n",
        "\n",
        "Other considerations, we will not be exploring :\n",
        "* What is the trade-off between input data sizes and batch size ?\n",
        "* Is the GPU always the appropriate platform for training ?\n",
        "* How does hardware influence inputs and batch sizes for a given desired accuracy ?"
      ]
    },
    {
      "metadata": {
        "id": "82ImTGQ_MfZJ",
        "colab_type": "code",
        "colab": {}
      },
      "cell_type": "code",
      "source": [
        "# Define the data shapes based on your decision to use rgb or grayscale or other colorpsaces or texture features or \n",
        "# some combination of these inputs\n",
        "num_classes = 8 \n",
        "input_shape = nrows, ncols, 1\n",
        "train_data = train_data.reshape(train_data.shape[0], nrows, ncols, 1)\n",
        "test_data = test_data.reshape(test_data.shape[0], nrows, ncols, 1)"
      ],
      "execution_count": 0,
      "outputs": []
    },
    {
      "metadata": {
        "id": "Q2iSGtOuMfZP",
        "colab_type": "text"
      },
      "cell_type": "markdown",
      "source": [
        "## Step 3\n",
        "Design your network here using Keras"
      ]
    },
    {
      "metadata": {
        "id": "OsffMC7mMfZQ",
        "colab_type": "code",
        "colab": {
          "base_uri": "https://localhost:8080/",
          "height": 408
        },
        "outputId": "2b4e27aa-d08f-4133-f548-2d94fe7bee8e"
      },
      "cell_type": "code",
      "source": [
        "# Create your network\n",
        "model = []\n",
        "model = Sequential()\n",
        "\n",
        "# Add input layer\n",
        "\n",
        "# Add fully connected layers \n",
        "# See keras.io for Conv2D, MaxPool2D, Dropout documentation\n",
        "\n",
        "\n",
        "# Add final output layer - This should have as many neurons as the number\n",
        "# of classes we are trying to identify\n",
        "model.add(tf.keras.layers.Conv2D(32, kernel_size=3, strides = 1, padding = 'same',\n",
        "                 activation = tf.nn.relu,\n",
        "                 input_shape = input_shape))\n",
        "model.add(tf.keras.layers.Conv2D(32, kernel_size=3, strides = 1, padding = 'same',\n",
        "                 activation = tf.nn.relu,\n",
        "                 input_shape = input_shape))\n",
        "\n",
        "model.add(tf.keras.layers.MaxPooling2D(pool_size=(2,2), padding = 'valid'))\n",
        "\n",
        "model.add(tf.keras.layers.Dropout(.25))\n",
        "\n",
        "model.add(tf.keras.layers.Conv2D(32, kernel_size=3, strides = 1, padding = 'same',\n",
        "                 activation = tf.nn.relu))\n",
        "\n",
        "model.add(tf.keras.layers.MaxPooling2D(pool_size=(2,2), padding = 'valid'))\n",
        "model.add(tf.keras.layers.Flatten())\n",
        "\n",
        "model.add(tf.keras.layers.Dense(8 ,activation = tf.nn.softmax))\n",
        "\n",
        "model.summary()\n"
      ],
      "execution_count": 7,
      "outputs": [
        {
          "output_type": "stream",
          "text": [
            "_________________________________________________________________\n",
            "Layer (type)                 Output Shape              Param #   \n",
            "=================================================================\n",
            "conv2d (Conv2D)              (None, 64, 64, 32)        320       \n",
            "_________________________________________________________________\n",
            "conv2d_1 (Conv2D)            (None, 64, 64, 32)        9248      \n",
            "_________________________________________________________________\n",
            "max_pooling2d (MaxPooling2D) (None, 32, 32, 32)        0         \n",
            "_________________________________________________________________\n",
            "dropout (Dropout)            (None, 32, 32, 32)        0         \n",
            "_________________________________________________________________\n",
            "conv2d_2 (Conv2D)            (None, 32, 32, 32)        9248      \n",
            "_________________________________________________________________\n",
            "max_pooling2d_1 (MaxPooling2 (None, 16, 16, 32)        0         \n",
            "_________________________________________________________________\n",
            "flatten (Flatten)            (None, 8192)              0         \n",
            "_________________________________________________________________\n",
            "dense (Dense)                (None, 8)                 65544     \n",
            "=================================================================\n",
            "Total params: 84,360\n",
            "Trainable params: 84,360\n",
            "Non-trainable params: 0\n",
            "_________________________________________________________________\n"
          ],
          "name": "stdout"
        }
      ]
    },
    {
      "metadata": {
        "id": "3DwOWHAVMfZU",
        "colab_type": "text"
      },
      "cell_type": "markdown",
      "source": [
        "## Step 4\n",
        "Compile the model you designed. Compiltation of the Keras model results in the initialization of model weights and sets other model properties."
      ]
    },
    {
      "metadata": {
        "id": "azIn2h-PMfZV",
        "colab_type": "code",
        "colab": {}
      },
      "cell_type": "code",
      "source": [
        "model.compile(loss='categorical_crossentropy', optimizer=tf.train.RMSPropOptimizer(learning_rate=0.001), metrics=['accuracy'])"
      ],
      "execution_count": 0,
      "outputs": []
    },
    {
      "metadata": {
        "id": "TBfoZFiji5m-",
        "colab_type": "code",
        "colab": {
          "base_uri": "https://localhost:8080/",
          "height": 51
        },
        "outputId": "74c06534-2cd7-4f89-e97a-ca34a9f2cd0d"
      },
      "cell_type": "code",
      "source": [
        "print(train_data.shape)\n",
        "print(test_data.shape)"
      ],
      "execution_count": 10,
      "outputs": [
        {
          "output_type": "stream",
          "text": [
            "(4000, 64, 64, 1)\n",
            "(1000, 64, 64, 1)\n"
          ],
          "name": "stdout"
        }
      ]
    },
    {
      "metadata": {
        "id": "9afYIYb6MfZZ",
        "colab_type": "text"
      },
      "cell_type": "markdown",
      "source": [
        "## Step 5\n",
        "Train model"
      ]
    },
    {
      "metadata": {
        "id": "_ngFO-dYMfZa",
        "colab_type": "code",
        "colab": {
          "base_uri": "https://localhost:8080/",
          "height": 102
        },
        "outputId": "2a85a14f-e239-4f16-d553-8998ff1ffedf"
      },
      "cell_type": "code",
      "source": [
        "y = model.fit(train_data, y_train, epochs = 100, validation_data = (test_data,y_test))"
      ],
      "execution_count": 0,
      "outputs": [
        {
          "output_type": "stream",
          "text": [
            "Train on 4000 samples, validate on 1000 samples\n",
            "Epoch 1/100\n",
            "4000/4000 [==============================] - 59s 15ms/step - loss: 1.9581 - acc: 0.1722 - val_loss: 1.6165 - val_acc: 0.2790\n",
            "Epoch 2/100\n",
            " 416/4000 [==>...........................] - ETA: 49s - loss: 1.4981 - acc: 0.3365"
          ],
          "name": "stdout"
        }
      ]
    },
    {
      "metadata": {
        "id": "sjAqutu2MfZf",
        "colab_type": "text"
      },
      "cell_type": "markdown",
      "source": [
        "## Step 6\n",
        "See how your model performs by uisng it for inference.\n",
        "* What is the accuracy of classification ?\n",
        "* Change your model, re-compile and test. Can you improve the accuracy of the model ?\n"
      ]
    },
    {
      "metadata": {
        "id": "5M0N76AoMfZf",
        "colab_type": "code",
        "colab": {}
      },
      "cell_type": "code",
      "source": [
        "# predict labels - use the test set for prediction\n",
        "pred_labels = model.predict()"
      ],
      "execution_count": 0,
      "outputs": []
    },
    {
      "metadata": {
        "id": "Xnuyx0QFMfZk",
        "colab_type": "code",
        "colab": {}
      },
      "cell_type": "code",
      "source": [
        "from sklearn.metrics import accuracy_score\n",
        "from sklearn.metrics import confusion_matrix\n",
        "\n",
        "# We need to convert the categorical array test_labels into a vector\n",
        "# in order to use it in the calculation of the confusion matrix\n",
        "mat = confusion_matrix(np.argmax(test_labels, axis=1), pred_labels)\n",
        "acc = accuracy_score(np.argmax(test_labels, axis=1), pred_labels)\n",
        "print(acc)\n",
        "print(mat)"
      ],
      "execution_count": 0,
      "outputs": []
    },
    {
      "metadata": {
        "id": "h7RYbDzyMfZm",
        "colab_type": "code",
        "colab": {}
      },
      "cell_type": "code",
      "source": [
        "plt.figure(figsize=(8,6))\n",
        "plt.imshow(mat, cmap='hot', interpolation='nearest')\n",
        "plt.grid(False)\n",
        "plt.colorbar()\n",
        "plt.xlabel('true label')\n",
        "plt.ylabel('predicted label')\n",
        "plt.show()"
      ],
      "execution_count": 0,
      "outputs": []
    },
    {
      "metadata": {
        "id": "p6atMD6vMfZs",
        "colab_type": "text"
      },
      "cell_type": "markdown",
      "source": [
        "## Assignment\n",
        "* In Step 3 design your own network\n",
        "* Does the model perform better if you use all three RGB channels ?\n",
        "* How does the performance change when using the La*b colorspace ?\n"
      ]
    },
    {
      "metadata": {
        "id": "HQ6qvyk4qntM",
        "colab_type": "code",
        "colab": {}
      },
      "cell_type": "code",
      "source": [
        "\n",
        "# Load data as RGB\n",
        "y = np.load(os.path.join(data_dir, 'rgb01.npz'))\n",
        "labels = y['labels']\n",
        "data_rgb = y['rgb_data']\n",
        "label_str = y['label_str']\n",
        "label_str = label_str.tolist() # this is to convert label_str back to a dictionary\n",
        "y = []\n",
        "\n",
        "print(data_rgb.shape)\n",
        "for ii in range(2,6):\n",
        "    filename = os.path.join(data_dir, 'rgb0' + str(ii) + '.npz')\n",
        "    print('loading ', filename)\n",
        "    y = np.load(filename)\n",
        "    labels = np.append(labels, y['labels'], axis=0)\n",
        "    data_rgb = np.append(data_rgb, y['rgb_data'])\n",
        "    print(data_rgb.shape)\n",
        "    y = []\n",
        "\n",
        "data_rgb = data_rgb.astype('float')\n",
        "data_rgb = data_rgb.reshape(5000, 150, 150, 3)\n",
        "\n",
        "print( data_rgb.shape )\n",
        "print( labels.shape )\n",
        "\n",
        "num_images, nrows, ncols, dims = data_rgb.shape"
      ],
      "execution_count": 0,
      "outputs": []
    }
  ]
}